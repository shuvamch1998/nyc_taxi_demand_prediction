{
 "cells": [
  {
   "cell_type": "code",
   "execution_count": 9,
   "id": "a680b171-02c9-49fe-9379-ca0a0f41f894",
   "metadata": {},
   "outputs": [],
   "source": [
    "import os"
   ]
  },
  {
   "cell_type": "code",
   "execution_count": 10,
   "id": "a58a702e-ca6b-4345-a4f0-dbbd896d18bf",
   "metadata": {},
   "outputs": [
    {
     "data": {
      "text/plain": [
       "environ{'ALLUSERSPROFILE': 'C:\\\\ProgramData',\n",
       "        'APPDATA': 'C:\\\\Users\\\\SHUVAM CHATTERJEE\\\\AppData\\\\Roaming',\n",
       "        'COMMONPROGRAMFILES': 'C:\\\\Program Files\\\\Common Files',\n",
       "        'COMMONPROGRAMFILES(X86)': 'C:\\\\Program Files (x86)\\\\Common Files',\n",
       "        'COMMONPROGRAMW6432': 'C:\\\\Program Files\\\\Common Files',\n",
       "        'COMPUTERNAME': 'LAPTOP-BLMM3LM6',\n",
       "        'COMSPEC': 'C:\\\\Windows\\\\system32\\\\cmd.exe',\n",
       "        'CONDA_DEFAULT_ENV': 'base',\n",
       "        'CONDA_EXE': 'C:\\\\Users\\\\SHUVAM CHATTERJEE\\\\Miniconda3\\\\condabin\\\\..\\\\Scripts\\\\conda.exe',\n",
       "        'CONDA_EXES': '\"C:\\\\Users\\\\SHUVAM CHATTERJEE\\\\Miniconda3\\\\condabin\\\\..\\\\Scripts\\\\conda.exe\"  ',\n",
       "        'CONDA_PREFIX': 'C:\\\\Users\\\\SHUVAM CHATTERJEE\\\\Miniconda3',\n",
       "        'CONDA_PROMPT_MODIFIER': '(base) ',\n",
       "        'CONDA_PYTHON_EXE': 'C:\\\\Users\\\\SHUVAM CHATTERJEE\\\\Miniconda3\\\\python.exe',\n",
       "        'CONDA_SHLVL': '1',\n",
       "        'DRIVERDATA': 'C:\\\\Windows\\\\System32\\\\Drivers\\\\DriverData',\n",
       "        'EFC_25648': '1',\n",
       "        'HOMEDRIVE': 'C:',\n",
       "        'HOMEPATH': '\\\\Users\\\\SHUVAM CHATTERJEE',\n",
       "        'IPY_INTERRUPT_EVENT': '5952',\n",
       "        'JAVA_HOME': 'C:\\\\Users\\\\SHUVAM CHATTERJEE\\\\Downloads\\\\fiji-win64\\\\Fiji.app\\\\java\\\\win64\\\\zulu8.60.0.21-ca-fx-jdk8.0.322-win_x64\\\\jre',\n",
       "        'JPY_INTERRUPT_EVENT': '5952',\n",
       "        'JPY_PARENT_PID': '4652',\n",
       "        'JPY_SESSION_NAME': 'C:\\\\Users\\\\SHUVAM CHATTERJEE\\\\Downloads\\\\sp25_taxi-main\\\\sp25_taxi-main\\\\notebooks\\\\set_environment.ipynb',\n",
       "        'LOCALAPPDATA': 'C:\\\\Users\\\\SHUVAM CHATTERJEE\\\\AppData\\\\Local',\n",
       "        'LOGONSERVER': '\\\\\\\\LAPTOP-BLMM3LM6',\n",
       "        'MAVEN_HOME': 'C:\\\\Program Files\\\\apache-maven-3.9.9',\n",
       "        'NUMBER_OF_PROCESSORS': '16',\n",
       "        'ONEDRIVE': 'C:\\\\Users\\\\SHUVAM CHATTERJEE\\\\OneDrive',\n",
       "        'ONEDRIVECONSUMER': 'C:\\\\Users\\\\SHUVAM CHATTERJEE\\\\OneDrive',\n",
       "        'OS': 'Windows_NT',\n",
       "        'PATH': 'C:\\\\Users\\\\SHUVAM CHATTERJEE\\\\AppData\\\\Local\\\\pypoetry\\\\Cache\\\\virtualenvs\\\\spring25-taxi-nZ6zcPK5-py3.11\\\\Scripts;C:\\\\Users\\\\SHUVAM CHATTERJEE\\\\Miniconda3;C:\\\\Users\\\\SHUVAM CHATTERJEE\\\\Miniconda3\\\\Library\\\\mingw-w64\\\\bin;C:\\\\Users\\\\SHUVAM CHATTERJEE\\\\Miniconda3\\\\Library\\\\usr\\\\bin;C:\\\\Users\\\\SHUVAM CHATTERJEE\\\\Miniconda3\\\\Library\\\\bin;C:\\\\Users\\\\SHUVAM CHATTERJEE\\\\Miniconda3\\\\Scripts;C:\\\\Users\\\\SHUVAM CHATTERJEE\\\\Miniconda3\\\\bin;C:\\\\Users\\\\SHUVAM CHATTERJEE\\\\Miniconda3\\\\condabin;C:\\\\Program Files (x86)\\\\Common Files\\\\Oracle\\\\Java\\\\javapath;C:\\\\Windows\\\\system32;C:\\\\Windows;C:\\\\Windows\\\\System32\\\\Wbem;C:\\\\Windows\\\\System32\\\\WindowsPowerShell\\\\v1.0;C:\\\\Windows\\\\System32\\\\OpenSSH;C:\\\\Program Files\\\\MATLAB\\\\R2023b\\\\bin;C:\\\\Program Files\\\\Docker\\\\Docker\\\\resources\\\\bin;C:\\\\Program Files\\\\Git\\\\cmd;C:\\\\Program Files\\\\PuTTY;C:\\\\Users\\\\SHUVAM CHATTERJEE\\\\Downloads\\\\fiji-win64\\\\Fiji.app\\\\java\\\\win64\\\\zulu8.60.0.21-ca-fx-jdk8.0.322-win_x64\\\\jre\\\\bin;C:\\\\Program Files\\\\apache-maven-3.9.9\\\\bin;C:\\\\Program Files\\\\MiKTeX\\\\miktex\\\\bin\\\\x64;C:\\\\Program Files\\\\RedHat\\\\Podman;C:\\\\Users\\\\SHUVAM CHATTERJEE\\\\AppData\\\\Local\\\\Microsoft\\\\WinGet\\\\Links\\\\astro.exe;C:\\\\kafka\\\\bin;C:\\\\Users\\\\SHUVAM CHATTERJEE\\\\AppData\\\\Local\\\\Programs\\\\Python\\\\Python311\\\\Scripts;C:\\\\Users\\\\SHUVAM CHATTERJEE\\\\AppData\\\\Local\\\\Programs\\\\Python\\\\Python311;C:\\\\ProgramData\\\\TinyTeX\\\\bin\\\\windows;C:\\\\Users\\\\SHUVAM CHATTERJEE\\\\Miniconda3;C:\\\\Users\\\\SHUVAM CHATTERJEE\\\\Miniconda3\\\\Library\\\\mingw-w64\\\\bin;C:\\\\Users\\\\SHUVAM CHATTERJEE\\\\Miniconda3\\\\Library\\\\usr\\\\bin;C:\\\\Users\\\\SHUVAM CHATTERJEE\\\\Miniconda3\\\\Library\\\\bin;C:\\\\Users\\\\SHUVAM CHATTERJEE\\\\Miniconda3\\\\Scripts;C:\\\\Users\\\\SHUVAM CHATTERJEE\\\\AppData\\\\Local\\\\Microsoft\\\\WindowsApps;C:\\\\Users\\\\SHUVAM CHATTERJEE\\\\AppData\\\\Local\\\\Programs\\\\Microsoft VS Code\\\\bin;C:\\\\Program Files\\\\JetBrains\\\\PyCharm Community Edition 2024.2.1\\\\bin;.;C:\\\\Users\\\\SHUVAM CHATTERJEE\\\\AppData\\\\Local\\\\Programs\\\\MiKTeX\\\\miktex\\\\bin\\\\x64;C:\\\\Users\\\\SHUVAM CHATTERJEE\\\\AppData\\\\Local\\\\Microsoft\\\\WinGet\\\\Links;C:\\\\kafka\\\\bin;.;C:\\\\Users\\\\SHUVAM CHATTERJEE\\\\AppData\\\\Roaming\\\\Python\\\\Scripts',\n",
       "        'PATHEXT': '.COM;.EXE;.BAT;.CMD;.VBS;.VBE;.JS;.JSE;.WSF;.WSH;.MSC',\n",
       "        'PROCESSOR_ARCHITECTURE': 'AMD64',\n",
       "        'PROCESSOR_IDENTIFIER': 'AMD64 Family 23 Model 104 Stepping 1, AuthenticAMD',\n",
       "        'PROCESSOR_LEVEL': '23',\n",
       "        'PROCESSOR_REVISION': '6801',\n",
       "        'PROGRAMDATA': 'C:\\\\ProgramData',\n",
       "        'PROGRAMFILES': 'C:\\\\Program Files',\n",
       "        'PROGRAMFILES(X86)': 'C:\\\\Program Files (x86)',\n",
       "        'PROGRAMW6432': 'C:\\\\Program Files',\n",
       "        'PROMPT': '(spring25-taxi-py3.11) (base) $P$G',\n",
       "        'PSMODULEPATH': 'C:\\\\Program Files\\\\WindowsPowerShell\\\\Modules;C:\\\\Windows\\\\system32\\\\WindowsPowerShell\\\\v1.0\\\\Modules',\n",
       "        'PUBLIC': 'C:\\\\Users\\\\Public',\n",
       "        'PYCHARM COMMUNITY EDITION': 'C:\\\\Program Files\\\\JetBrains\\\\PyCharm Community Edition 2024.2.1\\\\bin;',\n",
       "        'SESSIONNAME': 'Console',\n",
       "        'SSL_CERT_FILE': 'C:\\\\Users\\\\SHUVAM CHATTERJEE\\\\Miniconda3\\\\Library\\\\ssl\\\\cacert.pem',\n",
       "        'SYSTEMDRIVE': 'C:',\n",
       "        'SYSTEMROOT': 'C:\\\\Windows',\n",
       "        'TEMP': 'C:\\\\Users\\\\SHUVAM~1\\\\AppData\\\\Local\\\\Temp',\n",
       "        'TMP': 'C:\\\\Users\\\\SHUVAM~1\\\\AppData\\\\Local\\\\Temp',\n",
       "        'USERDOMAIN': 'LAPTOP-BLMM3LM6',\n",
       "        'USERDOMAIN_ROAMINGPROFILE': 'LAPTOP-BLMM3LM6',\n",
       "        'USERNAME': 'SHUVAM CHATTERJEE',\n",
       "        'USERPROFILE': 'C:\\\\Users\\\\SHUVAM CHATTERJEE',\n",
       "        'VIRTUAL_ENV': 'C:\\\\Users\\\\SHUVAM CHATTERJEE\\\\AppData\\\\Local\\\\pypoetry\\\\Cache\\\\virtualenvs\\\\spring25-taxi-nZ6zcPK5-py3.11',\n",
       "        'VIRTUAL_ENV_PROMPT': 'spring25-taxi-py3.11',\n",
       "        'WINDIR': 'C:\\\\Windows',\n",
       "        '_OLD_VIRTUAL_PATH': 'C:\\\\Users\\\\SHUVAM CHATTERJEE\\\\Miniconda3;C:\\\\Users\\\\SHUVAM CHATTERJEE\\\\Miniconda3\\\\Library\\\\mingw-w64\\\\bin;C:\\\\Users\\\\SHUVAM CHATTERJEE\\\\Miniconda3\\\\Library\\\\usr\\\\bin;C:\\\\Users\\\\SHUVAM CHATTERJEE\\\\Miniconda3\\\\Library\\\\bin;C:\\\\Users\\\\SHUVAM CHATTERJEE\\\\Miniconda3\\\\Scripts;C:\\\\Users\\\\SHUVAM CHATTERJEE\\\\Miniconda3\\\\bin;C:\\\\Users\\\\SHUVAM CHATTERJEE\\\\Miniconda3\\\\condabin;C:\\\\Program Files (x86)\\\\Common Files\\\\Oracle\\\\Java\\\\javapath;C:\\\\Windows\\\\system32;C:\\\\Windows;C:\\\\Windows\\\\System32\\\\Wbem;C:\\\\Windows\\\\System32\\\\WindowsPowerShell\\\\v1.0;C:\\\\Windows\\\\System32\\\\OpenSSH;C:\\\\Program Files\\\\MATLAB\\\\R2023b\\\\bin;C:\\\\Program Files\\\\Docker\\\\Docker\\\\resources\\\\bin;C:\\\\Program Files\\\\Git\\\\cmd;C:\\\\Program Files\\\\PuTTY;C:\\\\Users\\\\SHUVAM CHATTERJEE\\\\Downloads\\\\fiji-win64\\\\Fiji.app\\\\java\\\\win64\\\\zulu8.60.0.21-ca-fx-jdk8.0.322-win_x64\\\\jre\\\\bin;C:\\\\Program Files\\\\apache-maven-3.9.9\\\\bin;C:\\\\Program Files\\\\MiKTeX\\\\miktex\\\\bin\\\\x64;C:\\\\Program Files\\\\RedHat\\\\Podman;C:\\\\Users\\\\SHUVAM CHATTERJEE\\\\AppData\\\\Local\\\\Microsoft\\\\WinGet\\\\Links\\\\astro.exe;C:\\\\kafka\\\\bin;C:\\\\Users\\\\SHUVAM CHATTERJEE\\\\AppData\\\\Local\\\\Programs\\\\Python\\\\Python311\\\\Scripts;C:\\\\Users\\\\SHUVAM CHATTERJEE\\\\AppData\\\\Local\\\\Programs\\\\Python\\\\Python311;C:\\\\ProgramData\\\\TinyTeX\\\\bin\\\\windows;C:\\\\Users\\\\SHUVAM CHATTERJEE\\\\Miniconda3;C:\\\\Users\\\\SHUVAM CHATTERJEE\\\\Miniconda3\\\\Library\\\\mingw-w64\\\\bin;C:\\\\Users\\\\SHUVAM CHATTERJEE\\\\Miniconda3\\\\Library\\\\usr\\\\bin;C:\\\\Users\\\\SHUVAM CHATTERJEE\\\\Miniconda3\\\\Library\\\\bin;C:\\\\Users\\\\SHUVAM CHATTERJEE\\\\Miniconda3\\\\Scripts;C:\\\\Users\\\\SHUVAM CHATTERJEE\\\\AppData\\\\Local\\\\Microsoft\\\\WindowsApps;C:\\\\Users\\\\SHUVAM CHATTERJEE\\\\AppData\\\\Local\\\\Programs\\\\Microsoft VS Code\\\\bin;C:\\\\Program Files\\\\JetBrains\\\\PyCharm Community Edition 2024.2.1\\\\bin;.;C:\\\\Users\\\\SHUVAM CHATTERJEE\\\\AppData\\\\Local\\\\Programs\\\\MiKTeX\\\\miktex\\\\bin\\\\x64;C:\\\\Users\\\\SHUVAM CHATTERJEE\\\\AppData\\\\Local\\\\Microsoft\\\\WinGet\\\\Links;C:\\\\kafka\\\\bin;.;C:\\\\Users\\\\SHUVAM CHATTERJEE\\\\AppData\\\\Roaming\\\\Python\\\\Scripts',\n",
       "        '_OLD_VIRTUAL_PROMPT': '(base) $P$G',\n",
       "        '__CONDA_OPENSLL_CERT_FILE_SET': '\"1\"',\n",
       "        'PYDEVD_USE_FRAME_EVAL': 'NO',\n",
       "        'TERM': 'xterm-color',\n",
       "        'CLICOLOR': '1',\n",
       "        'FORCE_COLOR': '1',\n",
       "        'CLICOLOR_FORCE': '1',\n",
       "        'PAGER': 'cat',\n",
       "        'GIT_PAGER': 'cat',\n",
       "        'MPLBACKEND': 'module://matplotlib_inline.backend_inline',\n",
       "        'MLFLOW_TRACKING_URI': 'https://dagshub.com/shuvamch1998/taxi.mlflow',\n",
       "        'MLFLOW_TRACKING_USERNAME': 'shuvamch1998',\n",
       "        'MLFLOW_TRACKING_PASSWORD': 'f90327af786a1c91e0fe7f66f11e34c24c33b06f',\n",
       "        'HOPSWORK_PROJECT_NAME': 'taxi_shuvamch',\n",
       "        'HOPSWORK_API_KEY': 'UaWUcbr8MT1a5Hll.iwENuTxfPnGTOkGevtn8sByxZ2haCJH6yT7RY3dgztB9NUkP2p6R3pJR4erkkeOO'}"
      ]
     },
     "execution_count": 10,
     "metadata": {},
     "output_type": "execute_result"
    }
   ],
   "source": [
    "os.environ"
   ]
  },
  {
   "cell_type": "code",
   "execution_count": 11,
   "id": "d7017789-bb7b-460d-bb64-c827a733a17c",
   "metadata": {},
   "outputs": [
    {
     "data": {
      "text/plain": [
       "True"
      ]
     },
     "execution_count": 11,
     "metadata": {},
     "output_type": "execute_result"
    }
   ],
   "source": [
    "from dotenv import load_dotenv\n",
    "load_dotenv()"
   ]
  },
  {
   "cell_type": "code",
   "execution_count": 12,
   "id": "9bf60037-0e29-4f4f-8fda-c0d70dd4e9fc",
   "metadata": {},
   "outputs": [
    {
     "data": {
      "text/plain": [
       "environ{'ALLUSERSPROFILE': 'C:\\\\ProgramData',\n",
       "        'APPDATA': 'C:\\\\Users\\\\SHUVAM CHATTERJEE\\\\AppData\\\\Roaming',\n",
       "        'COMMONPROGRAMFILES': 'C:\\\\Program Files\\\\Common Files',\n",
       "        'COMMONPROGRAMFILES(X86)': 'C:\\\\Program Files (x86)\\\\Common Files',\n",
       "        'COMMONPROGRAMW6432': 'C:\\\\Program Files\\\\Common Files',\n",
       "        'COMPUTERNAME': 'LAPTOP-BLMM3LM6',\n",
       "        'COMSPEC': 'C:\\\\Windows\\\\system32\\\\cmd.exe',\n",
       "        'CONDA_DEFAULT_ENV': 'base',\n",
       "        'CONDA_EXE': 'C:\\\\Users\\\\SHUVAM CHATTERJEE\\\\Miniconda3\\\\condabin\\\\..\\\\Scripts\\\\conda.exe',\n",
       "        'CONDA_EXES': '\"C:\\\\Users\\\\SHUVAM CHATTERJEE\\\\Miniconda3\\\\condabin\\\\..\\\\Scripts\\\\conda.exe\"  ',\n",
       "        'CONDA_PREFIX': 'C:\\\\Users\\\\SHUVAM CHATTERJEE\\\\Miniconda3',\n",
       "        'CONDA_PROMPT_MODIFIER': '(base) ',\n",
       "        'CONDA_PYTHON_EXE': 'C:\\\\Users\\\\SHUVAM CHATTERJEE\\\\Miniconda3\\\\python.exe',\n",
       "        'CONDA_SHLVL': '1',\n",
       "        'DRIVERDATA': 'C:\\\\Windows\\\\System32\\\\Drivers\\\\DriverData',\n",
       "        'EFC_25648': '1',\n",
       "        'HOMEDRIVE': 'C:',\n",
       "        'HOMEPATH': '\\\\Users\\\\SHUVAM CHATTERJEE',\n",
       "        'IPY_INTERRUPT_EVENT': '5952',\n",
       "        'JAVA_HOME': 'C:\\\\Users\\\\SHUVAM CHATTERJEE\\\\Downloads\\\\fiji-win64\\\\Fiji.app\\\\java\\\\win64\\\\zulu8.60.0.21-ca-fx-jdk8.0.322-win_x64\\\\jre',\n",
       "        'JPY_INTERRUPT_EVENT': '5952',\n",
       "        'JPY_PARENT_PID': '4652',\n",
       "        'JPY_SESSION_NAME': 'C:\\\\Users\\\\SHUVAM CHATTERJEE\\\\Downloads\\\\sp25_taxi-main\\\\sp25_taxi-main\\\\notebooks\\\\set_environment.ipynb',\n",
       "        'LOCALAPPDATA': 'C:\\\\Users\\\\SHUVAM CHATTERJEE\\\\AppData\\\\Local',\n",
       "        'LOGONSERVER': '\\\\\\\\LAPTOP-BLMM3LM6',\n",
       "        'MAVEN_HOME': 'C:\\\\Program Files\\\\apache-maven-3.9.9',\n",
       "        'NUMBER_OF_PROCESSORS': '16',\n",
       "        'ONEDRIVE': 'C:\\\\Users\\\\SHUVAM CHATTERJEE\\\\OneDrive',\n",
       "        'ONEDRIVECONSUMER': 'C:\\\\Users\\\\SHUVAM CHATTERJEE\\\\OneDrive',\n",
       "        'OS': 'Windows_NT',\n",
       "        'PATH': 'C:\\\\Users\\\\SHUVAM CHATTERJEE\\\\AppData\\\\Local\\\\pypoetry\\\\Cache\\\\virtualenvs\\\\spring25-taxi-nZ6zcPK5-py3.11\\\\Scripts;C:\\\\Users\\\\SHUVAM CHATTERJEE\\\\Miniconda3;C:\\\\Users\\\\SHUVAM CHATTERJEE\\\\Miniconda3\\\\Library\\\\mingw-w64\\\\bin;C:\\\\Users\\\\SHUVAM CHATTERJEE\\\\Miniconda3\\\\Library\\\\usr\\\\bin;C:\\\\Users\\\\SHUVAM CHATTERJEE\\\\Miniconda3\\\\Library\\\\bin;C:\\\\Users\\\\SHUVAM CHATTERJEE\\\\Miniconda3\\\\Scripts;C:\\\\Users\\\\SHUVAM CHATTERJEE\\\\Miniconda3\\\\bin;C:\\\\Users\\\\SHUVAM CHATTERJEE\\\\Miniconda3\\\\condabin;C:\\\\Program Files (x86)\\\\Common Files\\\\Oracle\\\\Java\\\\javapath;C:\\\\Windows\\\\system32;C:\\\\Windows;C:\\\\Windows\\\\System32\\\\Wbem;C:\\\\Windows\\\\System32\\\\WindowsPowerShell\\\\v1.0;C:\\\\Windows\\\\System32\\\\OpenSSH;C:\\\\Program Files\\\\MATLAB\\\\R2023b\\\\bin;C:\\\\Program Files\\\\Docker\\\\Docker\\\\resources\\\\bin;C:\\\\Program Files\\\\Git\\\\cmd;C:\\\\Program Files\\\\PuTTY;C:\\\\Users\\\\SHUVAM CHATTERJEE\\\\Downloads\\\\fiji-win64\\\\Fiji.app\\\\java\\\\win64\\\\zulu8.60.0.21-ca-fx-jdk8.0.322-win_x64\\\\jre\\\\bin;C:\\\\Program Files\\\\apache-maven-3.9.9\\\\bin;C:\\\\Program Files\\\\MiKTeX\\\\miktex\\\\bin\\\\x64;C:\\\\Program Files\\\\RedHat\\\\Podman;C:\\\\Users\\\\SHUVAM CHATTERJEE\\\\AppData\\\\Local\\\\Microsoft\\\\WinGet\\\\Links\\\\astro.exe;C:\\\\kafka\\\\bin;C:\\\\Users\\\\SHUVAM CHATTERJEE\\\\AppData\\\\Local\\\\Programs\\\\Python\\\\Python311\\\\Scripts;C:\\\\Users\\\\SHUVAM CHATTERJEE\\\\AppData\\\\Local\\\\Programs\\\\Python\\\\Python311;C:\\\\ProgramData\\\\TinyTeX\\\\bin\\\\windows;C:\\\\Users\\\\SHUVAM CHATTERJEE\\\\Miniconda3;C:\\\\Users\\\\SHUVAM CHATTERJEE\\\\Miniconda3\\\\Library\\\\mingw-w64\\\\bin;C:\\\\Users\\\\SHUVAM CHATTERJEE\\\\Miniconda3\\\\Library\\\\usr\\\\bin;C:\\\\Users\\\\SHUVAM CHATTERJEE\\\\Miniconda3\\\\Library\\\\bin;C:\\\\Users\\\\SHUVAM CHATTERJEE\\\\Miniconda3\\\\Scripts;C:\\\\Users\\\\SHUVAM CHATTERJEE\\\\AppData\\\\Local\\\\Microsoft\\\\WindowsApps;C:\\\\Users\\\\SHUVAM CHATTERJEE\\\\AppData\\\\Local\\\\Programs\\\\Microsoft VS Code\\\\bin;C:\\\\Program Files\\\\JetBrains\\\\PyCharm Community Edition 2024.2.1\\\\bin;.;C:\\\\Users\\\\SHUVAM CHATTERJEE\\\\AppData\\\\Local\\\\Programs\\\\MiKTeX\\\\miktex\\\\bin\\\\x64;C:\\\\Users\\\\SHUVAM CHATTERJEE\\\\AppData\\\\Local\\\\Microsoft\\\\WinGet\\\\Links;C:\\\\kafka\\\\bin;.;C:\\\\Users\\\\SHUVAM CHATTERJEE\\\\AppData\\\\Roaming\\\\Python\\\\Scripts',\n",
       "        'PATHEXT': '.COM;.EXE;.BAT;.CMD;.VBS;.VBE;.JS;.JSE;.WSF;.WSH;.MSC',\n",
       "        'PROCESSOR_ARCHITECTURE': 'AMD64',\n",
       "        'PROCESSOR_IDENTIFIER': 'AMD64 Family 23 Model 104 Stepping 1, AuthenticAMD',\n",
       "        'PROCESSOR_LEVEL': '23',\n",
       "        'PROCESSOR_REVISION': '6801',\n",
       "        'PROGRAMDATA': 'C:\\\\ProgramData',\n",
       "        'PROGRAMFILES': 'C:\\\\Program Files',\n",
       "        'PROGRAMFILES(X86)': 'C:\\\\Program Files (x86)',\n",
       "        'PROGRAMW6432': 'C:\\\\Program Files',\n",
       "        'PROMPT': '(spring25-taxi-py3.11) (base) $P$G',\n",
       "        'PSMODULEPATH': 'C:\\\\Program Files\\\\WindowsPowerShell\\\\Modules;C:\\\\Windows\\\\system32\\\\WindowsPowerShell\\\\v1.0\\\\Modules',\n",
       "        'PUBLIC': 'C:\\\\Users\\\\Public',\n",
       "        'PYCHARM COMMUNITY EDITION': 'C:\\\\Program Files\\\\JetBrains\\\\PyCharm Community Edition 2024.2.1\\\\bin;',\n",
       "        'SESSIONNAME': 'Console',\n",
       "        'SSL_CERT_FILE': 'C:\\\\Users\\\\SHUVAM CHATTERJEE\\\\Miniconda3\\\\Library\\\\ssl\\\\cacert.pem',\n",
       "        'SYSTEMDRIVE': 'C:',\n",
       "        'SYSTEMROOT': 'C:\\\\Windows',\n",
       "        'TEMP': 'C:\\\\Users\\\\SHUVAM~1\\\\AppData\\\\Local\\\\Temp',\n",
       "        'TMP': 'C:\\\\Users\\\\SHUVAM~1\\\\AppData\\\\Local\\\\Temp',\n",
       "        'USERDOMAIN': 'LAPTOP-BLMM3LM6',\n",
       "        'USERDOMAIN_ROAMINGPROFILE': 'LAPTOP-BLMM3LM6',\n",
       "        'USERNAME': 'SHUVAM CHATTERJEE',\n",
       "        'USERPROFILE': 'C:\\\\Users\\\\SHUVAM CHATTERJEE',\n",
       "        'VIRTUAL_ENV': 'C:\\\\Users\\\\SHUVAM CHATTERJEE\\\\AppData\\\\Local\\\\pypoetry\\\\Cache\\\\virtualenvs\\\\spring25-taxi-nZ6zcPK5-py3.11',\n",
       "        'VIRTUAL_ENV_PROMPT': 'spring25-taxi-py3.11',\n",
       "        'WINDIR': 'C:\\\\Windows',\n",
       "        '_OLD_VIRTUAL_PATH': 'C:\\\\Users\\\\SHUVAM CHATTERJEE\\\\Miniconda3;C:\\\\Users\\\\SHUVAM CHATTERJEE\\\\Miniconda3\\\\Library\\\\mingw-w64\\\\bin;C:\\\\Users\\\\SHUVAM CHATTERJEE\\\\Miniconda3\\\\Library\\\\usr\\\\bin;C:\\\\Users\\\\SHUVAM CHATTERJEE\\\\Miniconda3\\\\Library\\\\bin;C:\\\\Users\\\\SHUVAM CHATTERJEE\\\\Miniconda3\\\\Scripts;C:\\\\Users\\\\SHUVAM CHATTERJEE\\\\Miniconda3\\\\bin;C:\\\\Users\\\\SHUVAM CHATTERJEE\\\\Miniconda3\\\\condabin;C:\\\\Program Files (x86)\\\\Common Files\\\\Oracle\\\\Java\\\\javapath;C:\\\\Windows\\\\system32;C:\\\\Windows;C:\\\\Windows\\\\System32\\\\Wbem;C:\\\\Windows\\\\System32\\\\WindowsPowerShell\\\\v1.0;C:\\\\Windows\\\\System32\\\\OpenSSH;C:\\\\Program Files\\\\MATLAB\\\\R2023b\\\\bin;C:\\\\Program Files\\\\Docker\\\\Docker\\\\resources\\\\bin;C:\\\\Program Files\\\\Git\\\\cmd;C:\\\\Program Files\\\\PuTTY;C:\\\\Users\\\\SHUVAM CHATTERJEE\\\\Downloads\\\\fiji-win64\\\\Fiji.app\\\\java\\\\win64\\\\zulu8.60.0.21-ca-fx-jdk8.0.322-win_x64\\\\jre\\\\bin;C:\\\\Program Files\\\\apache-maven-3.9.9\\\\bin;C:\\\\Program Files\\\\MiKTeX\\\\miktex\\\\bin\\\\x64;C:\\\\Program Files\\\\RedHat\\\\Podman;C:\\\\Users\\\\SHUVAM CHATTERJEE\\\\AppData\\\\Local\\\\Microsoft\\\\WinGet\\\\Links\\\\astro.exe;C:\\\\kafka\\\\bin;C:\\\\Users\\\\SHUVAM CHATTERJEE\\\\AppData\\\\Local\\\\Programs\\\\Python\\\\Python311\\\\Scripts;C:\\\\Users\\\\SHUVAM CHATTERJEE\\\\AppData\\\\Local\\\\Programs\\\\Python\\\\Python311;C:\\\\ProgramData\\\\TinyTeX\\\\bin\\\\windows;C:\\\\Users\\\\SHUVAM CHATTERJEE\\\\Miniconda3;C:\\\\Users\\\\SHUVAM CHATTERJEE\\\\Miniconda3\\\\Library\\\\mingw-w64\\\\bin;C:\\\\Users\\\\SHUVAM CHATTERJEE\\\\Miniconda3\\\\Library\\\\usr\\\\bin;C:\\\\Users\\\\SHUVAM CHATTERJEE\\\\Miniconda3\\\\Library\\\\bin;C:\\\\Users\\\\SHUVAM CHATTERJEE\\\\Miniconda3\\\\Scripts;C:\\\\Users\\\\SHUVAM CHATTERJEE\\\\AppData\\\\Local\\\\Microsoft\\\\WindowsApps;C:\\\\Users\\\\SHUVAM CHATTERJEE\\\\AppData\\\\Local\\\\Programs\\\\Microsoft VS Code\\\\bin;C:\\\\Program Files\\\\JetBrains\\\\PyCharm Community Edition 2024.2.1\\\\bin;.;C:\\\\Users\\\\SHUVAM CHATTERJEE\\\\AppData\\\\Local\\\\Programs\\\\MiKTeX\\\\miktex\\\\bin\\\\x64;C:\\\\Users\\\\SHUVAM CHATTERJEE\\\\AppData\\\\Local\\\\Microsoft\\\\WinGet\\\\Links;C:\\\\kafka\\\\bin;.;C:\\\\Users\\\\SHUVAM CHATTERJEE\\\\AppData\\\\Roaming\\\\Python\\\\Scripts',\n",
       "        '_OLD_VIRTUAL_PROMPT': '(base) $P$G',\n",
       "        '__CONDA_OPENSLL_CERT_FILE_SET': '\"1\"',\n",
       "        'PYDEVD_USE_FRAME_EVAL': 'NO',\n",
       "        'TERM': 'xterm-color',\n",
       "        'CLICOLOR': '1',\n",
       "        'FORCE_COLOR': '1',\n",
       "        'CLICOLOR_FORCE': '1',\n",
       "        'PAGER': 'cat',\n",
       "        'GIT_PAGER': 'cat',\n",
       "        'MPLBACKEND': 'module://matplotlib_inline.backend_inline',\n",
       "        'MLFLOW_TRACKING_URI': 'https://dagshub.com/shuvamch1998/taxi.mlflow',\n",
       "        'MLFLOW_TRACKING_USERNAME': 'shuvamch1998',\n",
       "        'MLFLOW_TRACKING_PASSWORD': 'f90327af786a1c91e0fe7f66f11e34c24c33b06f',\n",
       "        'HOPSWORK_PROJECT_NAME': 'taxi_shuvamch',\n",
       "        'HOPSWORK_API_KEY': 'UaWUcbr8MT1a5Hll.iwENuTxfPnGTOkGevtn8sByxZ2haCJH6yT7RY3dgztB9NUkP2p6R3pJR4erkkeOO'}"
      ]
     },
     "execution_count": 12,
     "metadata": {},
     "output_type": "execute_result"
    }
   ],
   "source": [
    "os.environ"
   ]
  },
  {
   "cell_type": "code",
   "execution_count": null,
   "id": "adba34dd-f132-43a2-8435-2aa5e27cd514",
   "metadata": {},
   "outputs": [],
   "source": []
  }
 ],
 "metadata": {
  "kernelspec": {
   "display_name": "Python 3 (ipykernel)",
   "language": "python",
   "name": "python3"
  },
  "language_info": {
   "codemirror_mode": {
    "name": "ipython",
    "version": 3
   },
   "file_extension": ".py",
   "mimetype": "text/x-python",
   "name": "python",
   "nbconvert_exporter": "python",
   "pygments_lexer": "ipython3",
   "version": "3.11.8"
  }
 },
 "nbformat": 4,
 "nbformat_minor": 5
}
